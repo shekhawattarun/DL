{
  "cells": [
    {
      "cell_type": "code",
      "execution_count": null,
      "metadata": {
        "id": "5ZFY5QQVVY37"
      },
      "outputs": [],
      "source": [
        "import numpy as np\n",
        "import matplotlib.pyplot as plt\n",
        "import pandas as pd\n",
        "import seaborn as sns"
      ]
    },
    {
      "cell_type": "code",
      "execution_count": null,
      "metadata": {
        "id": "jifUAuKKB0Mx"
      },
      "outputs": [],
      "source": [
        "import tensorflow"
      ]
    },
    {
      "cell_type": "code",
      "execution_count": null,
      "metadata": {
        "id": "ABycXct0Vdik"
      },
      "outputs": [],
      "source": [
        "from tensorflow.keras.datasets import mnist"
      ]
    },
    {
      "cell_type": "code",
      "execution_count": null,
      "metadata": {
        "colab": {
          "base_uri": "https://localhost:8080/"
        },
        "id": "DJWF3XMOVfli",
        "outputId": "70684075-8e9b-4710-d6fd-16e0215c669c"
      },
      "outputs": [
        {
          "name": "stdout",
          "output_type": "stream",
          "text": [
            "Downloading data from https://storage.googleapis.com/tensorflow/tf-keras-datasets/mnist.npz\n",
            "11490434/11490434 [==============================] - 0s 0us/step\n",
            "Training data shapes: X=(60000, 28, 28), y=(60000,)\n",
            "Testing data shapes: X=(10000, 28, 28), y=(10000,)\n"
          ]
        }
      ],
      "source": [
        "(trainX, trainy), (testX, testy) = mnist.load_data()\n",
        "print('Training data shapes: X=%s, y=%s' % (trainX.shape, trainy.shape))\n",
        "print('Testing data shapes: X=%s, y=%s' % (testX.shape, testy.shape))"
      ]
    },
    {
      "cell_type": "code",
      "execution_count": null,
      "metadata": {
        "colab": {
          "base_uri": "https://localhost:8080/",
          "height": 146
        },
        "id": "SsSjDlp9VjWb",
        "outputId": "9386caa7-ab3c-4751-eb95-5877f22922b9"
      },
      "outputs": [
        {
          "data": {
            "image/png": "[encoded data removed]",
            "text/plain": [
              "<Figure size 640x480 with 5 Axes>"
            ]
          },
          "metadata": {},
          "output_type": "display_data"
        }
      ],
      "source": [
        "for j in range(5):\n",
        "    i = np.random.randint(0, 10000)\n",
        "    plt.subplot(550 + 1 + j)\n",
        "    plt.imshow(trainX[i], cmap='gray')\n",
        "    plt.title(trainy[i])\n",
        "plt.show()"
      ]
    },
    {
      "cell_type": "code",
      "execution_count": null,
      "metadata": {
        "id": "ehI7Zz2ZVn-s"
      },
      "outputs": [],
      "source": [
        "def guassian_noise(image):\n",
        "    r,c= image.shape\n",
        "    mean = 0\n",
        "    var = 0.1\n",
        "    sigma = var**0.5\n",
        "    gaussian = np.random.normal(mean,sigma,(r,c))\n",
        "    gaussian = gaussian.reshape(r,c)\n",
        "    noisy = image + gaussian\n",
        "    return noisy"
      ]
    },
    {
      "cell_type": "code",
      "execution_count": null,
      "metadata": {
        "id": "pqFYKYcpVrd1"
      },
      "outputs": [],
      "source": [
        "def salt_and_pepper_noise(image, ratio=0.9, amount=0.1):\n",
        "    noisy = np.copy(image)\n",
        "    total_pixels = image.size\n",
        "    num_salt = np.ceil(amount * total_pixels * ratio)\n",
        "    num_pepper = np.ceil(amount * total_pixels * (1. - ratio))\n",
        "\n",
        "    # Add salt noise\n",
        "    salt_coords = [np.random.randint(0, i, int(num_salt)) for i in image.shape]\n",
        "    noisy[tuple(salt_coords)] = 1\n",
        "\n",
        "    # Add pepper noise\n",
        "    pepper_coords = [np.random.randint(0, i, int(num_pepper)) for i in image.shape]\n",
        "    noisy[tuple(pepper_coords)] = 0\n",
        "\n",
        "    return noisy"
      ]
    },
    {
      "cell_type": "code",
      "execution_count": null,
      "metadata": {
        "id": "do3knrv2Vuy1"
      },
      "outputs": [],
      "source": [
        "def poisson_noise(image):\n",
        "    vals = len(np.unique(image))\n",
        "    vals = 2 ** np.ceil(np.log2(vals))\n",
        "    noisy = np.random.poisson(image * vals) / float(vals)\n",
        "    return noisy"
      ]
    },
    {
      "cell_type": "code",
      "execution_count": null,
      "metadata": {
        "id": "R68clQt8AMFT"
      },
      "outputs": [],
      "source": [
        "def speckle_noise(image):\n",
        "    r,c = image.shape\n",
        "    speckle = np.random.randn(r,c)\n",
        "    speckle = speckle.reshape(r,c)\n",
        "    noisy = image + image * speckle\n",
        "    return noisy"
      ]
    },
    {
      "cell_type": "code",
      "execution_count": null,
      "metadata": {
        "id": "F-uWx0hdAOSC"
      },
      "outputs": [],
      "source": [
        "def add_noise(image):\n",
        "    p = np.random.random()\n",
        "    if p <= 0.25:\n",
        "        # print(\"Guassian\")\n",
        "        noisy = guassian_noise(image)\n",
        "    elif p <= 0.5:\n",
        "        # print(\"SnP\")\n",
        "        noisy = salt_and_pepper_noise(image)\n",
        "    elif p <= 0.75:\n",
        "        # print(\"Poison\")\n",
        "        noisy = poisson_noise(image)\n",
        "    else:\n",
        "        # print(\"speckle\")\n",
        "        noisy = speckle_noise(image)\n",
        "    return noisy"
      ]
    },
    {
      "cell_type": "code",
      "execution_count": null,
      "metadata": {
        "colab": {
          "base_uri": "https://localhost:8080/",
          "height": 610
        },
        "id": "mrMrUiNUATk9",
        "outputId": "d84aa046-306a-4c96-8a0b-06023a0a83e8"
      },
      "outputs": [
        {
          "name": "stdout",
          "output_type": "stream",
          "text": [
            "Corrupted Example Samples\n",
            "speckle\n",
            "SnP\n",
            "Guassian\n",
            "Guassian\n",
            "speckle\n",
            "SnP\n",
            "SnP\n",
            "SnP\n",
            "SnP\n"
          ]
        },
        {
          "data": {
            "image/png": "[encoded data removed]",
            "text/plain": [
              "<Figure size 640x480 with 9 Axes>"
            ]
          },
          "metadata": {},
          "output_type": "display_data"
        }
      ],
      "source": [
        "print (\"Corrupted Example Samples\")\n",
        "for j in range(9):\n",
        "    i = np.random.randint(0, 10000)\n",
        "    plt.subplot(330 + 1 + j)\n",
        "    noisy = add_noise(trainX[i]/255)\n",
        "    plt.imshow(noisy, cmap='gray')\n",
        "plt.show()"
      ]
    },
    {
      "cell_type": "code",
      "execution_count": null,
      "metadata": {
        "id": "DrqOjvavAV90"
      },
      "outputs": [],
      "source": [
        "train_clean = [image/255 for image in trainX]\n",
        "test_clean = [image/255 for image in testX]"
      ]
    },
    {
      "cell_type": "code",
      "execution_count": null,
      "metadata": {
        "colab": {
          "base_uri": "https://localhost:8080/"
        },
        "id": "BmraNeekBUlX",
        "outputId": "9f3eaef1-7306-4d61-c693-b5696bf8f464"
      },
      "outputs": [
        {
          "name": "stdout",
          "output_type": "stream",
          "text": [
            "(60000, 28, 28, 1) (60000, 28, 28, 1) (10000, 28, 28, 1) (10000, 28, 28, 1)\n"
          ]
        }
      ],
      "source": [
        "train_noisy = [add_noise(image/255) for image in trainX]\n",
        "test_noisy = [add_noise(image/255) for image in testX]\n",
        "train_clean = np.reshape(train_clean, (60000, 28, 28, 1))\n",
        "test_clean = np.reshape(test_clean, (10000, 28, 28, 1))\n",
        "train_noisy = np.reshape(train_noisy, (60000, 28, 28, 1))\n",
        "test_noisy = np.reshape(test_noisy, (10000, 28, 28, 1))\n",
        "print(train_clean.shape, train_noisy.shape, test_clean.shape, test_noisy.shape)"
      ]
    },
    {
      "cell_type": "code",
      "execution_count": null,
      "metadata": {
        "id": "I1dsEQr-BW15"
      },
      "outputs": [],
      "source": [
        "input_data = tensorflow.keras.layers.Input(shape=(28, 28, 1))#Encoder part\n",
        "encoder = tensorflow.keras.layers.Conv2D(64, (5,5), activation='relu')(input_data)\n",
        "encoder = tensorflow.keras.layers.MaxPooling2D((2,2))(encoder)\n",
        "encoder = tensorflow.keras.layers.Conv2D(128, (3,3), activation='relu')(encoder)\n",
        "encoder = tensorflow.keras.layers.MaxPooling2D((2,2))(encoder)\n",
        "encoder = tensorflow.keras.layers.Conv2D(256, (3,3), activation='relu')(encoder)\n",
        "encoder = tensorflow.keras.layers.MaxPooling2D((2,2))(encoder)\n",
        "#Decoder Part\n",
        "decoder = tensorflow.keras.layers.Conv2DTranspose(256, (3,3), activation='relu')(encoder)\n",
        "decoder = tensorflow.keras.layers.Conv2DTranspose(128, (3,3), activation='relu')(decoder)\n",
        "decoder = tensorflow.keras.layers.UpSampling2D((2,2))(decoder)\n",
        "decoder = tensorflow.keras.layers.Conv2DTranspose(64, (3,3), activation='relu')(decoder)\n",
        "decoder = tensorflow.keras.layers.UpSampling2D((2,2))(decoder)\n",
        "decoded = tensorflow.keras.layers.Conv2DTranspose(1, (5,5), activation='relu')(decoder)"
      ]
    },
    {
      "cell_type": "code",
      "execution_count": null,
      "metadata": {
        "colab": {
          "base_uri": "https://localhost:8080/"
        },
        "id": "2Orr_T0VBnQI",
        "outputId": "d78c3487-7992-4741-c741-1a4b1129aa42"
      },
      "outputs": [
        {
          "name": "stdout",
          "output_type": "stream",
          "text": [
            "Model: \"model\"\n",
            "_________________________________________________________________\n",
            " Layer (type)                Output Shape              Param #   \n",
            "=================================================================\n",
            " input_1 (InputLayer)        [(None, 28, 28, 1)]       0         \n",
            "                                                                 \n",
            " conv2d (Conv2D)             (None, 24, 24, 64)        1664      \n",
            "                                                                 \n",
            " max_pooling2d (MaxPooling2  (None, 12, 12, 64)        0         \n",
            " D)                                                              \n",
            "                                                                 \n",
            " conv2d_1 (Conv2D)           (None, 10, 10, 128)       73856     \n",
            "                                                                 \n",
            " max_pooling2d_1 (MaxPoolin  (None, 5, 5, 128)         0         \n",
            " g2D)                                                            \n",
            "                                                                 \n",
            " conv2d_2 (Conv2D)           (None, 3, 3, 256)         295168    \n",
            "                                                                 \n",
            " max_pooling2d_2 (MaxPoolin  (None, 1, 1, 256)         0         \n",
            " g2D)                                                            \n",
            "                                                                 \n",
            " conv2d_transpose (Conv2DTr  (None, 3, 3, 256)         590080    \n",
            " anspose)                                                        \n",
            "                                                                 \n",
            " conv2d_transpose_1 (Conv2D  (None, 5, 5, 128)         295040    \n",
            " Transpose)                                                      \n",
            "                                                                 \n",
            " up_sampling2d (UpSampling2  (None, 10, 10, 128)       0         \n",
            " D)                                                              \n",
            "                                                                 \n",
            " conv2d_transpose_2 (Conv2D  (None, 12, 12, 64)        73792     \n",
            " Transpose)                                                      \n",
            "                                                                 \n",
            " up_sampling2d_1 (UpSamplin  (None, 24, 24, 64)        0         \n",
            " g2D)                                                            \n",
            "                                                                 \n",
            " conv2d_transpose_3 (Conv2D  (None, 28, 28, 1)         1601      \n",
            " Transpose)                                                      \n",
            "                                                                 \n",
            "=================================================================\n",
            "Total params: 1331201 (5.08 MB)\n",
            "Trainable params: 1331201 (5.08 MB)\n",
            "Non-trainable params: 0 (0.00 Byte)\n",
            "_________________________________________________________________\n"
          ]
        }
      ],
      "source": [
        "autoencoder = tensorflow.keras.models.Model(inputs=input_data, outputs=decoded)\n",
        "autoencoder.compile(loss='mse', optimizer='adam')\n",
        "autoencoder.summary()"
      ]
    },
    {
      "cell_type": "code",
      "execution_count": null,
      "metadata": {
        "colab": {
          "base_uri": "https://localhost:8080/"
        },
        "id": "r_r8RH6wB50O",
        "outputId": "06548440-70af-4ace-d767-9719b1ddb7f3"
      },
      "outputs": [
        {
          "name": "stdout",
          "output_type": "stream",
          "text": [
            "Epoch 1/30\n",
            "938/938 [==============================] - 377s 399ms/step - loss: 0.0215 - val_loss: 0.0125\n",
            "Epoch 2/30\n",
            "938/938 [==============================] - 368s 392ms/step - loss: 0.0114 - val_loss: 0.0108\n",
            "Epoch 3/30\n",
            "938/938 [==============================] - 369s 393ms/step - loss: 0.0096 - val_loss: 0.0098\n",
            "Epoch 4/30\n",
            "938/938 [==============================] - 369s 393ms/step - loss: 0.0087 - val_loss: 0.0090\n",
            "Epoch 5/30\n",
            "938/938 [==============================] - 371s 395ms/step - loss: 0.0081 - val_loss: 0.0086\n",
            "Epoch 6/30\n",
            "938/938 [==============================] - 370s 394ms/step - loss: 0.0077 - val_loss: 0.0078\n",
            "Epoch 7/30\n",
            "938/938 [==============================] - 369s 394ms/step - loss: 0.0074 - val_loss: 0.0078\n",
            "Epoch 8/30\n",
            "938/938 [==============================] - 368s 392ms/step - loss: 0.0071 - val_loss: 0.0075\n",
            "Epoch 9/30\n",
            "938/938 [==============================] - 369s 393ms/step - loss: 0.0069 - val_loss: 0.0076\n",
            "Epoch 10/30\n",
            "938/938 [==============================] - 370s 395ms/step - loss: 0.0067 - val_loss: 0.0077\n",
            "Epoch 11/30\n",
            "938/938 [==============================] - 376s 401ms/step - loss: 0.0065 - val_loss: 0.0073\n",
            "Epoch 12/30\n",
            "938/938 [==============================] - 385s 410ms/step - loss: 0.0064 - val_loss: 0.0074\n",
            "Epoch 13/30\n",
            "938/938 [==============================] - 366s 391ms/step - loss: 0.0063 - val_loss: 0.0072\n",
            "Epoch 14/30\n",
            "938/938 [==============================] - 368s 393ms/step - loss: 0.0061 - val_loss: 0.0073\n",
            "Epoch 15/30\n",
            "938/938 [==============================] - 371s 395ms/step - loss: 0.0060 - val_loss: 0.0071\n",
            "Epoch 16/30\n",
            "938/938 [==============================] - 367s 391ms/step - loss: 0.0060 - val_loss: 0.0070\n",
            "Epoch 17/30\n",
            "938/938 [==============================] - 366s 391ms/step - loss: 0.0059 - val_loss: 0.0069\n",
            "Epoch 18/30\n",
            "938/938 [==============================] - 368s 393ms/step - loss: 0.0058 - val_loss: 0.0071\n",
            "Epoch 19/30\n",
            "938/938 [==============================] - 367s 391ms/step - loss: 0.0057 - val_loss: 0.0070\n",
            "Epoch 20/30\n",
            "938/938 [==============================] - 367s 391ms/step - loss: 0.0056 - val_loss: 0.0071\n",
            "Epoch 21/30\n",
            "938/938 [==============================] - 369s 394ms/step - loss: 0.0056 - val_loss: 0.0070\n",
            "Epoch 22/30\n",
            "432/938 [============>.................] - ETA: 3:02 - loss: 0.0054"
          ]
        }
      ],
      "source": [
        "autoencoder.fit(train_noisy, train_clean, epochs=30, batch_size=64, validation_data=(test_noisy, test_clean))"
      ]
    },
    {
      "cell_type": "code",
      "execution_count": null,
      "metadata": {
        "id": "QVM_F6XgB8mk"
      },
      "outputs": [],
      "source": [
        "offset=92\n",
        "\n",
        "print(\"Noisy test images\")\n",
        "for i in range(9):\n",
        "    plt.subplot(330 + 1 + i)\n",
        "    plt.imshow(test_noisy[i+offset,:,:, -1], cmap='gray')\n",
        "plt.show()# Reconstructed Images\n",
        "print (\"Cleaned Version(Denoising Autoencoder):) \")\n",
        "for i in range(9):\n",
        "    plt.subplot(330 + 1 + i)\n",
        "    output = autoencoder.predict(np.array([test_noisy[i+offset]]))\n",
        "    op_image = np.reshape(output[0]*255, (28, 28))\n",
        "    plt.imshow(op_image, cmap='gray')\n",
        "plt.show()"
      ]
    },
    {
      "cell_type": "code",
      "execution_count": null,
      "metadata": {
        "id": "gkETxc1kCDxH"
      },
      "outputs": [],
      "source": []
    }
  ],
  "metadata": {
    "colab": {
      "provenance": []
    },
    "kernelspec": {
      "display_name": "Python 3",
      "language": "python",
      "name": "python3"
    },
    "language_info": {
      "codemirror_mode": {
        "name": "ipython",
        "version": 3
      },
      "file_extension": ".py",
      "mimetype": "text/x-python",
      "name": "python",
      "nbconvert_exporter": "python",
      "pygments_lexer": "ipython3",
      "version": "3.7.12"
    }
  },
  "nbformat": 4,
  "nbformat_minor": 0
}