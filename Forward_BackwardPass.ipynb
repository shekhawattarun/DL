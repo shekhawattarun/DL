{
  "cells": [
    {
      "cell_type": "markdown",
      "metadata": {
        "id": "A3Xb0mvMDvnh"
      },
      "source": [
        "\n",
        "Forward Backward pass"
      ]
    },
    {
      "cell_type": "markdown",
      "metadata": {
        "id": "vAUQ7KPSfJ42"
      },
      "source": [
        "Step1: Import libraries"
      ]
    },
    {
      "cell_type": "code",
      "execution_count": null,
      "metadata": {
        "id": "VkrMut6-r_gO"
      },
      "outputs": [],
      "source": [
        "#Importing libraries\n",
        "import numpy as np\n",
        "import matplotlib.pyplot as plt\n",
        "%matplotlib inline\n",
        "plt.rcParams['figure.figsize'] = (5.0, 4.0)\n",
        "plt.rcParams['image.interpolation'] = 'nearest'\n",
        "plt.rcParams['image.cmap'] = 'gray'\n",
        "np.random.seed(1)"
      ]
    },
    {
      "cell_type": "markdown",
      "metadata": {
        "id": "DuWpAerjfMDi"
      },
      "source": [
        "Step2: Define padding"
      ]
    },
    {
      "cell_type": "code",
      "execution_count": null,
      "metadata": {
        "id": "6S3owVQtsAq8"
      },
      "outputs": [],
      "source": [
        "#Padding across all sides for convolution\n",
        "def zero_pad(X, pad):\n",
        "    X_pad = np.pad(X, ((0,0), (pad,pad), (pad,pad), (0,0)), 'constant', constant_values = (0,0))\n",
        "    return X_pad"
      ]
    },
    {
      "cell_type": "markdown",
      "metadata": {
        "id": "tlXDqIj_fPLa"
      },
      "source": [
        "Step 3: Generate a random image and pad it"
      ]
    },
    {
      "cell_type": "code",
      "execution_count": null,
      "metadata": {
        "colab": {
          "base_uri": "https://localhost:8080/",
          "height": 450
        },
        "id": "3zIKoGZ8sDYl",
        "outputId": "49b268c4-ce84-4c0a-a8c6-28d3acf80fad"
      },
      "outputs": [
        {
          "name": "stdout",
          "output_type": "stream",
          "text": [
            "x.shape = (4, 3, 3, 2)\n",
            "x_pad.shape = (4, 5, 5, 2)\n",
            "x[1,1] = [[ 0.90085595 -0.68372786]\n",
            " [-0.12289023 -0.93576943]\n",
            " [-0.26788808  0.53035547]]\n",
            "x_pad[1,1] = [[ 0.          0.        ]\n",
            " [ 0.04221375  0.58281521]\n",
            " [-1.10061918  1.14472371]\n",
            " [ 0.90159072  0.50249434]\n",
            " [ 0.          0.        ]]\n"
          ]
        },
        {
          "data": {
            "text/plain": [
              "<matplotlib.image.AxesImage at 0x7be2e0129120>"
            ]
          },
          "execution_count": 7,
          "metadata": {},
          "output_type": "execute_result"
        },
        {
          "data": {
            "image/png": "[encoded data removed]",
            "text/plain": [
              "<Figure size 500x400 with 2 Axes>"
            ]
          },
          "metadata": {},
          "output_type": "display_data"
        }
      ],
      "source": [
        "#Random number\n",
        "np.random.seed(1)\n",
        "x = np.random.randn(4, 3, 3, 2) #N,H,W,C\n",
        "x_pad = zero_pad(x, 1)\n",
        "print (\"x.shape =\", x.shape)\n",
        "print (\"x_pad.shape =\", x_pad.shape)\n",
        "print (\"x[1,1] =\", x[1,1])\n",
        "print (\"x_pad[1,1] =\", x_pad[1,1])\n",
        "\n",
        "fig, axarr = plt.subplots(1, 2)\n",
        "axarr[0].set_title('x')\n",
        "axarr[0].imshow(x[0,:,:,0])\n",
        "axarr[1].set_title('x_pad')\n",
        "axarr[1].imshow(x_pad[0,:,:,0])"
      ]
    },
    {
      "cell_type": "markdown",
      "metadata": {
        "id": "Pdwo_YsifXjN"
      },
      "source": [
        "Step4: Define convoltuion Y = WX+b. Followed by Pooling"
      ]
    },
    {
      "cell_type": "code",
      "execution_count": null,
      "metadata": {
        "id": "824vrYNSsHc7"
      },
      "outputs": [],
      "source": [
        "#Convolution is defined on sliced image whose size is equal to the mask size\n",
        "def conv_single_step(a_slice_prev, W, b):\n",
        "    s = np.multiply(a_slice_prev,W)\n",
        "    Z = np.sum(s)\n",
        "    Z = Z + b.astype(float)\n",
        "    return Z"
      ]
    },
    {
      "cell_type": "markdown",
      "metadata": {
        "id": "Zyyin4dHf60w"
      },
      "source": [
        "$$n_H = ⌊\\frac{n_{hprev}-f +2 \\times pad}{stride}⌋+1 $$ \\\\\n",
        "$$n_W = ⌊\\frac{n_{wprev}-f +2 \\times pad}{stride}⌋+1 $$ \\\\\n",
        "$$n_C = number of filters$$"
      ]
    },
    {
      "cell_type": "code",
      "execution_count": null,
      "metadata": {
        "id": "fLx3xQRssNs2"
      },
      "outputs": [],
      "source": [
        "#Forward pass\n",
        "def conv_forward(A_prev, W, b, hparameters):\n",
        "\n",
        "    (m, n_H_prev, n_W_prev, n_C_prev) = A_prev.shape\n",
        "    (f, f, n_C_prev, n_C) = W.shape\n",
        "\n",
        "    stride = hparameters['stride']\n",
        "    pad = hparameters['pad']\n",
        "\n",
        "    n_H = int((n_H_prev + 2*pad - f)/stride) + 1 #Calculate size of resultant image\n",
        "    n_W =int((n_W_prev + 2*pad - f)/stride) + 1\n",
        "\n",
        "    Z = np.zeros([m, n_H, n_W, n_C])\n",
        "    A_prev_pad = zero_pad(A_prev, pad)\n",
        "\n",
        "    for i in range(m):\n",
        "        a_prev_pad = A_prev_pad[i,:,:,:]\n",
        "        for h in range(n_H):\n",
        "            for w in range(n_W):\n",
        "                for c in range(n_C):\n",
        "\n",
        "                    vert_start = h*stride\n",
        "                    vert_end = h*stride + f\n",
        "                    horiz_start = w*stride\n",
        "                    horiz_end = w*stride + f\n",
        "\n",
        "                    a_slice_prev = a_prev_pad[vert_start:vert_end,horiz_start:horiz_end,:]\n",
        "\n",
        "                    Z[i, h, w, c] = conv_single_step(a_slice_prev, W[:, :, :, c], b[:,:,:,c])\n",
        "\n",
        "    cache = (A_prev, W, b, hparameters)\n",
        "\n",
        "    return Z, cache"
      ]
    },
    {
      "cell_type": "code",
      "execution_count": null,
      "metadata": {
        "colab": {
          "base_uri": "https://localhost:8080/"
        },
        "id": "wAvvYd4csQZD",
        "outputId": "e46dd2da-7c70-4857-b31e-933c3c5059f2"
      },
      "outputs": [
        {
          "name": "stdout",
          "output_type": "stream",
          "text": [
            "Z's mean = 0.5552143699532844\n",
            "Z[3,2,1] = [-2.04576998  3.03823284  1.60706977  5.13134505  4.57491139  5.49027078\n",
            " -4.48117305 -3.03327649]\n",
            "cache_conv[0][1][2][3] = [ 2.18697965  0.44136444 -0.10015523]\n"
          ]
        },
        {
          "name": "stderr",
          "output_type": "stream",
          "text": [
            "<ipython-input-9-896292926059>:29: DeprecationWarning: Conversion of an array with ndim > 0 to a scalar is deprecated, and will error in future. Ensure you extract a single element from your array before performing this operation. (Deprecated NumPy 1.25.)\n",
            "  Z[i, h, w, c] = conv_single_step(a_slice_prev, W[:, :, :, c], b[:,:,:,c])\n"
          ]
        }
      ],
      "source": [
        "#np.random.seed(1)\n",
        "A_prev = np.random.randn(10,4,4,3)\n",
        "W = np.random.randn(2,2,3,8)\n",
        "b = np.random.randn(1,1,1,8)\n",
        "hparameters = {\"pad\" : 2,\n",
        "               \"stride\": 2}\n",
        "\n",
        "Z, cache_conv = conv_forward(A_prev, W, b, hparameters)\n",
        "print(\"Z's mean =\", np.mean(Z))\n",
        "print(\"Z[3,2,1] =\", Z[3,2,1])\n",
        "print(\"cache_conv[0][1][2][3] =\", cache_conv[0][1][2][3])\n"
      ]
    },
    {
      "cell_type": "markdown",
      "metadata": {
        "id": "OB5mPkXWgpmQ"
      },
      "source": [
        "Step5: Backward pass"
      ]
    },
    {
      "cell_type": "markdown",
      "metadata": {
        "id": "1Bxp8nD4lBvy"
      },
      "source": [
        "$$dA+= \\sum_{h=0}^{n_H}\\sum_{w=0}^{n_W}W_c \\times dZ_{hw}$$ \\\\\n",
        "$$dW_c += \\sum_{h=0}^{n_H}\\sum_{w=0}^{n_W} a_{slice} \\times dZ_{hw}$$ \\\\\n",
        "$$db = \\sum_h \\sum_w dZ_{hw}$$"
      ]
    },
    {
      "cell_type": "markdown",
      "metadata": {
        "id": "7JMhEb_a-NRH"
      },
      "source": [
        "L = Ground Truth - Predicted \\\\\n",
        "Backpropogate the loss using chain rule"
      ]
    },
    {
      "cell_type": "code",
      "execution_count": null,
      "metadata": {
        "id": "apAn9PVDsWsq"
      },
      "outputs": [],
      "source": [
        "#\n",
        "def conv_backward(dZ, cache):\n",
        "\n",
        "    (A_prev, W, b, hparameters) = cache\n",
        "\n",
        "    (m, n_H_prev, n_W_prev, n_C_prev) = A_prev.shape\n",
        "\n",
        "    (f, f, n_C_prev, n_C) = W.shape\n",
        "    stride = hparameters[\"stride\"]\n",
        "    pad = hparameters[\"pad\"]\n",
        "\n",
        "    (m, n_H, n_W, n_C) = dZ.shape\n",
        "\n",
        "    dA_prev = np.zeros((m, n_H_prev, n_W_prev, n_C_prev))\n",
        "    dW = np.zeros((f, f, n_C_prev, n_C))\n",
        "    db = np.zeros((1, 1, 1, n_C))\n",
        "\n",
        "    A_prev_pad = zero_pad(A_prev, pad)\n",
        "    dA_prev_pad = zero_pad(dA_prev, pad)\n",
        "\n",
        "    for i in range(m):\n",
        "\n",
        "        a_prev_pad = A_prev_pad[i]\n",
        "        da_prev_pad = dA_prev_pad[i]\n",
        "\n",
        "        for h in range(n_H):\n",
        "            for w in range(n_W):\n",
        "                for c in range(n_C):\n",
        "\n",
        "                    vert_start = h\n",
        "                    vert_end = vert_start + f\n",
        "                    horiz_start = w\n",
        "                    horiz_end = horiz_start + f\n",
        "\n",
        "                    a_slice = a_prev_pad[vert_start:vert_end, horiz_start:horiz_end, :]\n",
        "\n",
        "                    da_prev_pad[vert_start:vert_end, horiz_start:horiz_end, :] += W[:,:,:,c] * dZ[i, h, w, c]\n",
        "                    dW[:,:,:,c] += a_slice * dZ[i, h, w, c]\n",
        "                    db[:,:,:,c] += dZ[i, h, w, c]\n",
        "\n",
        "\n",
        "        dA_prev[i, :, :, :] = da_prev_pad[pad:-pad, pad:-pad, :]\n",
        "\n",
        "    return dA_prev, dW, db"
      ]
    },
    {
      "cell_type": "code",
      "execution_count": null,
      "metadata": {
        "colab": {
          "base_uri": "https://localhost:8080/"
        },
        "id": "gaAwLZeGsbQ_",
        "outputId": "f79222a7-d414-467d-a74d-3a78537f7ff6"
      },
      "outputs": [
        {
          "name": "stdout",
          "output_type": "stream",
          "text": [
            "dA_mean = 1.2281511357930346\n",
            "dW_mean = 5.726717080270039\n",
            "db_mean = 88.8342991925256\n"
          ]
        }
      ],
      "source": [
        "np.random.seed(1)\n",
        "dA, dW, db = conv_backward(Z, cache_conv)\n",
        "print(\"dA_mean =\", np.mean(dA))\n",
        "print(\"dW_mean =\", np.mean(dW))\n",
        "print(\"db_mean =\", np.mean(db))"
      ]
    },
    {
      "cell_type": "code",
      "execution_count": null,
      "metadata": {
        "id": "cUa-EUfnyNJl"
      },
      "outputs": [],
      "source": []
    }
  ],
  "metadata": {
    "colab": {
      "provenance": []
    },
    "kernelspec": {
      "display_name": "Python 3",
      "language": "python",
      "name": "python3"
    },
    "language_info": {
      "codemirror_mode": {
        "name": "ipython",
        "version": 3
      },
      "file_extension": ".py",
      "mimetype": "text/x-python",
      "name": "python",
      "nbconvert_exporter": "python",
      "pygments_lexer": "ipython3",
      "version": "3.7.12"
    }
  },
  "nbformat": 4,
  "nbformat_minor": 0
}