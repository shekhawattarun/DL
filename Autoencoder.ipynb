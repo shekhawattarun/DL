{
  "nbformat": 4,
  "nbformat_minor": 0,
  "metadata": {
    "colab": {
      "provenance": []
    },
    "kernelspec": {
      "name": "python3",
      "display_name": "Python 3"
    },
    "language_info": {
      "name": "python"
    }
  },
  "cells": [
    {
      "cell_type": "code",
      "execution_count": null,
      "metadata": {
        "id": "AfV4ejmy7uqY"
      },
      "outputs": [],
      "source": [
        "import torch\n",
        "import numpy as np\n",
        "from torchvision import datasets\n",
        "import torchvision.transforms as transforms"
      ]
    },
    {
      "cell_type": "code",
      "source": [
        "import torch.nn as nn\n",
        "import torch.nn.functional as F"
      ],
      "metadata": {
        "id": "d_gquulg8jty"
      },
      "execution_count": null,
      "outputs": []
    },
    {
      "cell_type": "code",
      "source": [
        "transform = transforms.ToTensor()"
      ],
      "metadata": {
        "id": "ANnn2lNp7z34"
      },
      "execution_count": null,
      "outputs": []
    },
    {
      "cell_type": "code",
      "source": [
        "train_data = datasets.MNIST(root='data', train=True,\n",
        "                                   download=True, transform=transform)\n",
        "test_data = datasets.MNIST(root='data', train=False,\n",
        "                                  download=True, transform=transform)"
      ],
      "metadata": {
        "colab": {
          "base_uri": "https://localhost:8080/"
        },
        "id": "qEuBeWhu71K5",
        "outputId": "3c28b9ed-66cd-4760-96d0-00e3bbdcdcdc"
      },
      "execution_count": null,
      "outputs": [
        {
          "output_type": "stream",
          "name": "stdout",
          "text": [
            "Downloading http://yann.lecun.com/exdb/mnist/train-images-idx3-ubyte.gz\n",
            "Failed to download (trying next):\n",
            "HTTP Error 403: Forbidden\n",
            "\n",
            "Downloading https://ossci-datasets.s3.amazonaws.com/mnist/train-images-idx3-ubyte.gz\n",
            "Downloading https://ossci-datasets.s3.amazonaws.com/mnist/train-images-idx3-ubyte.gz to data/MNIST/raw/train-images-idx3-ubyte.gz\n"
          ]
        },
        {
          "output_type": "stream",
          "name": "stderr",
          "text": [
            "100%|██████████| 9912422/9912422 [00:00<00:00, 34316473.15it/s]\n"
          ]
        },
        {
          "output_type": "stream",
          "name": "stdout",
          "text": [
            "Extracting data/MNIST/raw/train-images-idx3-ubyte.gz to data/MNIST/raw\n",
            "\n",
            "Downloading http://yann.lecun.com/exdb/mnist/train-labels-idx1-ubyte.gz\n",
            "Failed to download (trying next):\n",
            "HTTP Error 403: Forbidden\n",
            "\n",
            "Downloading https://ossci-datasets.s3.amazonaws.com/mnist/train-labels-idx1-ubyte.gz\n",
            "Downloading https://ossci-datasets.s3.amazonaws.com/mnist/train-labels-idx1-ubyte.gz to data/MNIST/raw/train-labels-idx1-ubyte.gz\n"
          ]
        },
        {
          "output_type": "stream",
          "name": "stderr",
          "text": [
            "100%|██████████| 28881/28881 [00:00<00:00, 1143965.91it/s]"
          ]
        },
        {
          "output_type": "stream",
          "name": "stdout",
          "text": [
            "Extracting data/MNIST/raw/train-labels-idx1-ubyte.gz to data/MNIST/raw\n",
            "\n",
            "Downloading http://yann.lecun.com/exdb/mnist/t10k-images-idx3-ubyte.gz\n"
          ]
        },
        {
          "output_type": "stream",
          "name": "stderr",
          "text": [
            "\n"
          ]
        },
        {
          "output_type": "stream",
          "name": "stdout",
          "text": [
            "Failed to download (trying next):\n",
            "HTTP Error 403: Forbidden\n",
            "\n",
            "Downloading https://ossci-datasets.s3.amazonaws.com/mnist/t10k-images-idx3-ubyte.gz\n",
            "Downloading https://ossci-datasets.s3.amazonaws.com/mnist/t10k-images-idx3-ubyte.gz to data/MNIST/raw/t10k-images-idx3-ubyte.gz\n"
          ]
        },
        {
          "output_type": "stream",
          "name": "stderr",
          "text": [
            "100%|██████████| 1648877/1648877 [00:00<00:00, 9420334.40it/s]\n"
          ]
        },
        {
          "output_type": "stream",
          "name": "stdout",
          "text": [
            "Extracting data/MNIST/raw/t10k-images-idx3-ubyte.gz to data/MNIST/raw\n",
            "\n",
            "Downloading http://yann.lecun.com/exdb/mnist/t10k-labels-idx1-ubyte.gz\n",
            "Failed to download (trying next):\n",
            "HTTP Error 403: Forbidden\n",
            "\n",
            "Downloading https://ossci-datasets.s3.amazonaws.com/mnist/t10k-labels-idx1-ubyte.gz\n",
            "Downloading https://ossci-datasets.s3.amazonaws.com/mnist/t10k-labels-idx1-ubyte.gz to data/MNIST/raw/t10k-labels-idx1-ubyte.gz\n"
          ]
        },
        {
          "output_type": "stream",
          "name": "stderr",
          "text": [
            "100%|██████████| 4542/4542 [00:00<00:00, 3833875.78it/s]"
          ]
        },
        {
          "output_type": "stream",
          "name": "stdout",
          "text": [
            "Extracting data/MNIST/raw/t10k-labels-idx1-ubyte.gz to data/MNIST/raw\n",
            "\n"
          ]
        },
        {
          "output_type": "stream",
          "name": "stderr",
          "text": [
            "\n"
          ]
        }
      ]
    },
    {
      "cell_type": "code",
      "source": [
        "batch_size = 20"
      ],
      "metadata": {
        "id": "Mrs3oIFJ720t"
      },
      "execution_count": null,
      "outputs": []
    },
    {
      "cell_type": "code",
      "source": [
        "train_loader = torch.utils.data.DataLoader(train_data, batch_size=batch_size, num_workers=0)\n",
        "test_loader = torch.utils.data.DataLoader(test_data, batch_size=batch_size, num_workers=0)"
      ],
      "metadata": {
        "id": "f7cd_NJ776Zq"
      },
      "execution_count": null,
      "outputs": []
    },
    {
      "cell_type": "code",
      "source": [
        "import matplotlib.pyplot as plt\n",
        "%matplotlib inline"
      ],
      "metadata": {
        "id": "-LaSwz_h7_dm"
      },
      "execution_count": null,
      "outputs": []
    },
    {
      "cell_type": "code",
      "source": [
        "dataiter = iter(train_loader)\n",
        "images, labels = next(iter(train_loader))\n",
        "images = images.numpy()\n",
        "img = np.squeeze(images[0])\n",
        "fig = plt.figure(figsize = (5,5))\n",
        "ax = fig.add_subplot(111)\n",
        "ax.imshow(img, cmap='gray')"
      ],
      "metadata": {
        "colab": {
          "base_uri": "https://localhost:8080/",
          "height": 462
        },
        "id": "O7QkFvze8BmX",
        "outputId": "a2a0ea81-cc27-4545-a23f-0553409542ed"
      },
      "execution_count": null,
      "outputs": [
        {
          "output_type": "execute_result",
          "data": {
            "text/plain": [
              "<matplotlib.image.AxesImage at 0x7c28d7955ba0>"
            ]
          },
          "metadata": {},
          "execution_count": 23
        },
        {
          "output_type": "display_data",
          "data": {
            "text/plain": [
              "<Figure size 500x500 with 1 Axes>"
            ],
            "image/png": "[encoded data removed]"
          },
          "metadata": {}
        }
      ]
    },
    {
      "cell_type": "code",
      "source": [
        "class Autoencoder(nn.Module):\n",
        "    def __init__(self, encoding_dim):\n",
        "        super(Autoencoder, self).__init__()\n",
        "        self.fc1 = nn.Linear(28 * 28, encoding_dim)\n",
        "        self.fc2 = nn.Linear(encoding_dim, 28*28)\n",
        "    def forward(self, x):\n",
        "        x = F.relu(self.fc1(x))\n",
        "        x = F.sigmoid(self.fc2(x))\n",
        "        return x"
      ],
      "metadata": {
        "id": "jKHbi7ws8nKT"
      },
      "execution_count": null,
      "outputs": []
    },
    {
      "cell_type": "code",
      "source": [
        "encoding_dim = 32\n",
        "model = Autoencoder(encoding_dim)\n",
        "print(model)"
      ],
      "metadata": {
        "colab": {
          "base_uri": "https://localhost:8080/"
        },
        "id": "bcp3ostW8r9x",
        "outputId": "994bca21-d670-46fd-fe8c-0e2b3857a5b9"
      },
      "execution_count": null,
      "outputs": [
        {
          "output_type": "stream",
          "name": "stdout",
          "text": [
            "Autoencoder(\n",
            "  (fc1): Linear(in_features=784, out_features=32, bias=True)\n",
            "  (fc2): Linear(in_features=32, out_features=784, bias=True)\n",
            ")\n"
          ]
        }
      ]
    },
    {
      "cell_type": "code",
      "source": [
        "criterion = nn.MSELoss()"
      ],
      "metadata": {
        "id": "XfwEW9fN8ti5"
      },
      "execution_count": null,
      "outputs": []
    },
    {
      "cell_type": "code",
      "source": [
        "optimizer = torch.optim.SGD(model.parameters(), lr=0.001)"
      ],
      "metadata": {
        "id": "N0Xyshgp8w5N"
      },
      "execution_count": null,
      "outputs": []
    },
    {
      "cell_type": "code",
      "source": [
        "n_epochs = 100\n",
        "for epoch in range(1, n_epochs+1):\n",
        "    train_loss = 0.0\n",
        "    for data in train_loader:\n",
        "        images, _ = data\n",
        "        images = images.view(images.size(0), -1)\n",
        "        optimizer.zero_grad()\n",
        "        outputs = model(images)\n",
        "        loss = criterion(outputs, images)\n",
        "        loss.backward()\n",
        "        optimizer.step()\n",
        "        train_loss += loss.item()*images.size(0)\n",
        "    train_loss = train_loss/len(train_loader)\n",
        "    print('Epoch: {} tTraining Loss: {:.6f}'.format(\n",
        "        epoch,\n",
        "        train_loss ))"
      ],
      "metadata": {
        "colab": {
          "base_uri": "https://localhost:8080/"
        },
        "id": "8K3sJsIb8yxC",
        "outputId": "d4947bfe-34f7-48e2-f5df-b033262290be"
      },
      "execution_count": null,
      "outputs": [
        {
          "output_type": "stream",
          "name": "stdout",
          "text": [
            "Epoch: 1 tTraining Loss: 0.223229\n",
            "Epoch: 2 tTraining Loss: 0.222181\n",
            "Epoch: 3 tTraining Loss: 0.221380\n",
            "Epoch: 4 tTraining Loss: 0.220754\n",
            "Epoch: 5 tTraining Loss: 0.220255\n",
            "Epoch: 6 tTraining Loss: 0.219847\n",
            "Epoch: 7 tTraining Loss: 0.219507\n",
            "Epoch: 8 tTraining Loss: 0.219219\n",
            "Epoch: 9 tTraining Loss: 0.218970\n",
            "Epoch: 10 tTraining Loss: 0.218753\n",
            "Epoch: 11 tTraining Loss: 0.218560\n",
            "Epoch: 12 tTraining Loss: 0.218388\n",
            "Epoch: 13 tTraining Loss: 0.218233\n",
            "Epoch: 14 tTraining Loss: 0.218092\n",
            "Epoch: 15 tTraining Loss: 0.217964\n",
            "Epoch: 16 tTraining Loss: 0.217845\n",
            "Epoch: 17 tTraining Loss: 0.217737\n",
            "Epoch: 18 tTraining Loss: 0.217636\n",
            "Epoch: 19 tTraining Loss: 0.217542\n",
            "Epoch: 20 tTraining Loss: 0.217455\n",
            "Epoch: 21 tTraining Loss: 0.217373\n",
            "Epoch: 22 tTraining Loss: 0.217297\n",
            "Epoch: 23 tTraining Loss: 0.217226\n",
            "Epoch: 24 tTraining Loss: 0.217158\n",
            "Epoch: 25 tTraining Loss: 0.217095\n",
            "Epoch: 26 tTraining Loss: 0.217035\n",
            "Epoch: 27 tTraining Loss: 0.216979\n",
            "Epoch: 28 tTraining Loss: 0.216925\n",
            "Epoch: 29 tTraining Loss: 0.216874\n",
            "Epoch: 30 tTraining Loss: 0.216826\n",
            "Epoch: 31 tTraining Loss: 0.216780\n",
            "Epoch: 32 tTraining Loss: 0.216736\n",
            "Epoch: 33 tTraining Loss: 0.216694\n",
            "Epoch: 34 tTraining Loss: 0.216654\n",
            "Epoch: 35 tTraining Loss: 0.216616\n",
            "Epoch: 36 tTraining Loss: 0.216579\n",
            "Epoch: 37 tTraining Loss: 0.216544\n",
            "Epoch: 38 tTraining Loss: 0.216510\n",
            "Epoch: 39 tTraining Loss: 0.216477\n",
            "Epoch: 40 tTraining Loss: 0.216445\n",
            "Epoch: 41 tTraining Loss: 0.216415\n",
            "Epoch: 42 tTraining Loss: 0.216386\n",
            "Epoch: 43 tTraining Loss: 0.216357\n",
            "Epoch: 44 tTraining Loss: 0.216330\n",
            "Epoch: 45 tTraining Loss: 0.216303\n",
            "Epoch: 46 tTraining Loss: 0.216277\n",
            "Epoch: 47 tTraining Loss: 0.216252\n",
            "Epoch: 48 tTraining Loss: 0.216228\n",
            "Epoch: 49 tTraining Loss: 0.216205\n",
            "Epoch: 50 tTraining Loss: 0.216182\n",
            "Epoch: 51 tTraining Loss: 0.216159\n",
            "Epoch: 52 tTraining Loss: 0.216137\n",
            "Epoch: 53 tTraining Loss: 0.216116\n",
            "Epoch: 54 tTraining Loss: 0.216096\n",
            "Epoch: 55 tTraining Loss: 0.216075\n",
            "Epoch: 56 tTraining Loss: 0.216056\n",
            "Epoch: 57 tTraining Loss: 0.216036\n",
            "Epoch: 58 tTraining Loss: 0.216017\n",
            "Epoch: 59 tTraining Loss: 0.215999\n",
            "Epoch: 60 tTraining Loss: 0.215981\n",
            "Epoch: 61 tTraining Loss: 0.215963\n",
            "Epoch: 62 tTraining Loss: 0.215946\n",
            "Epoch: 63 tTraining Loss: 0.215929\n",
            "Epoch: 64 tTraining Loss: 0.215913\n",
            "Epoch: 65 tTraining Loss: 0.215896\n",
            "Epoch: 66 tTraining Loss: 0.215880\n",
            "Epoch: 67 tTraining Loss: 0.215865\n",
            "Epoch: 68 tTraining Loss: 0.215849\n",
            "Epoch: 69 tTraining Loss: 0.215834\n",
            "Epoch: 70 tTraining Loss: 0.215819\n",
            "Epoch: 71 tTraining Loss: 0.215805\n",
            "Epoch: 72 tTraining Loss: 0.215790\n",
            "Epoch: 73 tTraining Loss: 0.215776\n",
            "Epoch: 74 tTraining Loss: 0.215762\n",
            "Epoch: 75 tTraining Loss: 0.215749\n",
            "Epoch: 76 tTraining Loss: 0.215735\n",
            "Epoch: 77 tTraining Loss: 0.215722\n",
            "Epoch: 78 tTraining Loss: 0.215709\n",
            "Epoch: 79 tTraining Loss: 0.215696\n",
            "Epoch: 80 tTraining Loss: 0.215684\n",
            "Epoch: 81 tTraining Loss: 0.215672\n",
            "Epoch: 82 tTraining Loss: 0.215659\n",
            "Epoch: 83 tTraining Loss: 0.215647\n",
            "Epoch: 84 tTraining Loss: 0.215635\n",
            "Epoch: 85 tTraining Loss: 0.215624\n",
            "Epoch: 86 tTraining Loss: 0.215612\n",
            "Epoch: 87 tTraining Loss: 0.215601\n",
            "Epoch: 88 tTraining Loss: 0.215590\n",
            "Epoch: 89 tTraining Loss: 0.215579\n",
            "Epoch: 90 tTraining Loss: 0.215568\n",
            "Epoch: 91 tTraining Loss: 0.215557\n",
            "Epoch: 92 tTraining Loss: 0.215546\n",
            "Epoch: 93 tTraining Loss: 0.215536\n",
            "Epoch: 94 tTraining Loss: 0.215526\n",
            "Epoch: 95 tTraining Loss: 0.215515\n",
            "Epoch: 96 tTraining Loss: 0.215505\n",
            "Epoch: 97 tTraining Loss: 0.215495\n",
            "Epoch: 98 tTraining Loss: 0.215485\n",
            "Epoch: 99 tTraining Loss: 0.215476\n",
            "Epoch: 100 tTraining Loss: 0.215466\n"
          ]
        }
      ]
    },
    {
      "cell_type": "code",
      "source": [
        "images, labels = next(iter(test_loader))\n",
        "images_flatten = images.view(images.size(0), -1)\n",
        "output = model(images_flatten)\n",
        "images = images.numpy()\n",
        "output = output.view(batch_size, 1, 28, 28)\n",
        "output = output.detach().numpy()\n",
        "fig, axes = plt.subplots(nrows=2, ncols=10, sharex=True, sharey=True, figsize=(25,4))\n",
        "for images, row in zip([images, output], axes):\n",
        "    for img, ax in zip(images, row):\n",
        "        ax.imshow(np.squeeze(img), cmap='gray')\n",
        "        ax.get_xaxis().set_visible(False)\n",
        "        ax.get_yaxis().set_visible(False)"
      ],
      "metadata": {
        "id": "wZpZJPi386KJ"
      },
      "execution_count": null,
      "outputs": []
    },
    {
      "cell_type": "code",
      "source": [],
      "metadata": {
        "id": "cXzB3OKE8_sE"
      },
      "execution_count": null,
      "outputs": []
    }
  ]
}