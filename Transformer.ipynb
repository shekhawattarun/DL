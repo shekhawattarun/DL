{
  "cells": [
    {
      "cell_type": "code",
      "execution_count": null,
      "metadata": {
        "id": "d20cd3d86C8L"
      },
      "outputs": [],
      "source": [
        "import torch\n",
        "import torch.nn as nn\n",
        "import torch.optim as optim\n",
        "import torch.utils.data as data\n",
        "import math\n",
        "import copy"
      ]
    },
    {
      "cell_type": "code",
      "execution_count": null,
      "metadata": {
        "id": "1GIIAocH6Eo8"
      },
      "outputs": [],
      "source": [
        "class MultiHeadAttention(nn.Module):\n",
        "    def __init__(self, d_model, num_heads):\n",
        "        super(MultiHeadAttention, self).__init__()\n",
        "        assert d_model % num_heads == 0, \"d_model must be divisible by num_heads\"\n",
        "\n",
        "        self.d_model = d_model\n",
        "        self.num_heads = num_heads\n",
        "        self.d_k = d_model // num_heads\n",
        "\n",
        "        self.W_q = nn.Linear(d_model, d_model)\n",
        "        self.W_k = nn.Linear(d_model, d_model)\n",
        "        self.W_v = nn.Linear(d_model, d_model)\n",
        "        self.W_o = nn.Linear(d_model, d_model)\n",
        "\n",
        "    def scaled_dot_product_attention(self, Q, K, V, mask=None):\n",
        "        attn_scores = torch.matmul(Q, K.transpose(-2, -1)) / math.sqrt(self.d_k)\n",
        "        if mask is not None:\n",
        "            attn_scores = attn_scores.masked_fill(mask == 0, -1e9)\n",
        "        attn_probs = torch.softmax(attn_scores, dim=-1)\n",
        "        output = torch.matmul(attn_probs, V)\n",
        "        return output\n",
        "\n",
        "\n",
        "    def split_heads(self, x):\n",
        "        batch_size, seq_length, d_model = x.size()\n",
        "        return x.view(batch_size, seq_length, self.num_heads, self.d_k).transpose(1, 2)\n",
        "\n",
        "    def combine_heads(self, x):\n",
        "        batch_size, _, seq_length, d_k = x.size()\n",
        "        return x.transpose(1, 2).contiguous().view(batch_size, seq_length, self.d_model)\n",
        "\n",
        "    def forward(self, Q, K, V, mask=None):\n",
        "        Q = self.split_heads(self.W_q(Q))\n",
        "        K = self.split_heads(self.W_k(K))\n",
        "        V = self.split_heads(self.W_v(V))\n",
        "\n",
        "        attn_output = self.scaled_dot_product_attention(Q, K, V, mask)\n",
        "        output = self.W_o(self.combine_heads(attn_output))\n",
        "        return output"
      ]
    },
    {
      "cell_type": "code",
      "execution_count": 10,
      "metadata": {
        "id": "7QQlR3FH6QfZ"
      },
      "outputs": [],
      "source": [
        "class PositionWiseFeedForward(nn.Module):\n",
        "    def __init__(self, d_model, d_ff):\n",
        "        super(PositionWiseFeedForward, self).__init__()\n",
        "        self.fc1 = nn.Linear(d_model, d_ff)\n",
        "        self.fc2 = nn.Linear(d_ff, d_model)\n",
        "        self.relu = nn.ReLU()\n",
        "\n",
        "    def forward(self, x):\n",
        "        return self.fc2(self.relu(self.fc1(x)))"
      ]
    },
    {
      "cell_type": "code",
      "execution_count": null,
      "metadata": {
        "id": "RKvQ89nl6T5W"
      },
      "outputs": [],
      "source": [
        "class PositionalEncoding(nn.Module):\n",
        "    def __init__(self, d_model, max_seq_length):\n",
        "        super(PositionalEncoding, self).__init__()\n",
        "\n",
        "        pe = torch.zeros(max_seq_length, d_model)\n",
        "        position = torch.arange(0, max_seq_length, dtype=torch.float).unsqueeze(1)\n",
        "        div_term = torch.exp(torch.arange(0, d_model, 2).float() * -(math.log(10000.0) / d_model))\n",
        "\n",
        "        pe[:, 0::2] = torch.sin(position * div_term)\n",
        "        pe[:, 1::2] = torch.cos(position * div_term)\n",
        "\n",
        "        self.register_buffer('pe', pe.unsqueeze(0))\n",
        "\n",
        "    def forward(self, x):\n",
        "        return x + self.pe[:, :x.size(1)]"
      ]
    },
    {
      "cell_type": "code",
      "execution_count": 11,
      "metadata": {
        "id": "I_oOAr-v6XFT"
      },
      "outputs": [],
      "source": [
        "class EncoderLayer(nn.Module):\n",
        "    def __init__(self, d_model, num_heads, d_ff, dropout):\n",
        "        super(EncoderLayer, self).__init__()\n",
        "        self.self_attn = MultiHeadAttention(d_model, num_heads)\n",
        "        self.feed_forward = PositionWiseFeedForward(d_model, d_ff)\n",
        "        self.norm1 = nn.LayerNorm(d_model)\n",
        "        self.norm2 = nn.LayerNorm(d_model)\n",
        "        self.dropout = nn.Dropout(dropout)\n",
        "\n",
        "    def forward(self, x, mask):\n",
        "        attn_output = self.self_attn(x, x, x, mask)\n",
        "        x = self.norm1(x + self.dropout(attn_output))\n",
        "        ff_output = self.feed_forward(x)\n",
        "        x = self.norm2(x + self.dropout(ff_output))\n",
        "        return x"
      ]
    },
    {
      "cell_type": "code",
      "execution_count": null,
      "metadata": {
        "id": "WJz7_VS46dnV"
      },
      "outputs": [],
      "source": [
        "class DecoderLayer(nn.Module):\n",
        "    def __init__(self, d_model, num_heads, d_ff, dropout):\n",
        "        super(DecoderLayer, self).__init__()\n",
        "        self.self_attn = MultiHeadAttention(d_model, num_heads)\n",
        "        self.cross_attn = MultiHeadAttention(d_model, num_heads)\n",
        "        self.feed_forward = PositionWiseFeedForward(d_model, d_ff)\n",
        "        self.norm1 = nn.LayerNorm(d_model)\n",
        "        self.norm2 = nn.LayerNorm(d_model)\n",
        "        self.norm3 = nn.LayerNorm(d_model)\n",
        "        self.dropout = nn.Dropout(dropout)\n",
        "\n",
        "    def forward(self, x, enc_output, src_mask, tgt_mask):\n",
        "        attn_output = self.self_attn(x, x, x, tgt_mask)\n",
        "        x = self.norm1(x + self.dropout(attn_output))\n",
        "        attn_output = self.cross_attn(x, enc_output, enc_output, src_mask)\n",
        "        x = self.norm2(x + self.dropout(attn_output))\n",
        "        ff_output = self.feed_forward(x)\n",
        "        x = self.norm3(x + self.dropout(ff_output))\n",
        "        return x"
      ]
    },
    {
      "cell_type": "code",
      "execution_count": null,
      "metadata": {
        "id": "GFT7DB5X6i_m"
      },
      "outputs": [],
      "source": [
        "class Transformer(nn.Module):\n",
        "    def __init__(self, src_vocab_size, tgt_vocab_size, d_model, num_heads, num_layers, d_ff, max_seq_length, dropout):\n",
        "        super(Transformer, self).__init__()\n",
        "        self.encoder_embedding = nn.Embedding(src_vocab_size, d_model)\n",
        "        self.decoder_embedding = nn.Embedding(tgt_vocab_size, d_model)\n",
        "        self.positional_encoding = PositionalEncoding(d_model, max_seq_length)\n",
        "\n",
        "        self.encoder_layers = nn.ModuleList([EncoderLayer(d_model, num_heads, d_ff, dropout) for _ in range(num_layers)])\n",
        "        self.decoder_layers = nn.ModuleList([DecoderLayer(d_model, num_heads, d_ff, dropout) for _ in range(num_layers)])\n",
        "\n",
        "        self.fc = nn.Linear(d_model, tgt_vocab_size)\n",
        "        self.dropout = nn.Dropout(dropout)\n",
        "\n",
        "    def generate_mask(self, src, tgt):\n",
        "        src_mask = (src != 0).unsqueeze(1).unsqueeze(2)\n",
        "        tgt_mask = (tgt != 0).unsqueeze(1).unsqueeze(3)\n",
        "        seq_length = tgt.size(1)\n",
        "        nopeak_mask = (1 - torch.triu(torch.ones(1, seq_length, seq_length), diagonal=1)).bool()\n",
        "        tgt_mask = tgt_mask & nopeak_mask\n",
        "        return src_mask, tgt_mask\n",
        "\n",
        "\n",
        "    def forward(self, src, tgt):\n",
        "        src_mask, tgt_mask = self.generate_mask(src, tgt)\n",
        "        src_embedded = self.dropout(self.positional_encoding(self.encoder_embedding(src)))\n",
        "        tgt_embedded = self.dropout(self.positional_encoding(self.decoder_embedding(tgt)))\n",
        "\n",
        "        enc_output = src_embedded\n",
        "        for enc_layer in self.encoder_layers:\n",
        "            enc_output = enc_layer(enc_output, src_mask)\n",
        "\n",
        "        dec_output = tgt_embedded\n",
        "        for dec_layer in self.decoder_layers:\n",
        "            dec_output = dec_layer(dec_output, enc_output, src_mask, tgt_mask)\n",
        "\n",
        "        output = self.fc(dec_output)\n",
        "        return output"
      ]
    },
    {
      "cell_type": "code",
      "execution_count": null,
      "metadata": {
        "id": "NEge7yGy60PE"
      },
      "outputs": [],
      "source": [
        "src_vocab_size = 5000\n",
        "tgt_vocab_size = 5000\n",
        "d_model = 512\n",
        "num_heads = 8\n",
        "num_layers = 6\n",
        "d_ff = 2048\n",
        "max_seq_length = 100\n",
        "dropout = 0.1\n",
        "\n",
        "transformer = Transformer(src_vocab_size, tgt_vocab_size, d_model, num_heads, num_layers, d_ff, max_seq_length, dropout)\n",
        "\n",
        "# Generate random sample data\n",
        "src_data = torch.randint(1, src_vocab_size, (64, max_seq_length))  # (batch_size, seq_length)\n",
        "tgt_data = torch.randint(1, tgt_vocab_size, (64, max_seq_length))  # (batch_size, seq_length)"
      ]
    },
    {
      "cell_type": "code",
      "execution_count": null,
      "metadata": {
        "colab": {
          "background_save": true,
          "base_uri": "https://localhost:8080/"
        },
        "id": "mic627-s65jL",
        "outputId": "9322e9f7-8205-4754-9c6d-838b4624b0ad"
      },
      "outputs": [
        {
          "name": "stdout",
          "output_type": "stream",
          "text": [
            "Epoch: 1, Loss: 8.692972183227539\n",
            "Epoch: 2, Loss: 8.553699493408203\n",
            "Epoch: 3, Loss: 8.480195999145508\n",
            "Epoch: 4, Loss: 8.423271179199219\n",
            "Epoch: 5, Loss: 8.367453575134277\n",
            "Epoch: 6, Loss: 8.301517486572266\n",
            "Epoch: 7, Loss: 8.214996337890625\n",
            "Epoch: 8, Loss: 8.136978149414062\n",
            "Epoch: 9, Loss: 8.054269790649414\n",
            "Epoch: 10, Loss: 7.974518299102783\n",
            "Epoch: 11, Loss: 7.893424034118652\n",
            "Epoch: 12, Loss: 7.808671951293945\n",
            "Epoch: 13, Loss: 7.72385311126709\n",
            "Epoch: 14, Loss: 7.6410675048828125\n",
            "Epoch: 15, Loss: 7.557301998138428\n",
            "Epoch: 16, Loss: 7.47343111038208\n",
            "Epoch: 17, Loss: 7.389129161834717\n",
            "Epoch: 18, Loss: 7.3094096183776855\n",
            "Epoch: 19, Loss: 7.224118232727051\n",
            "Epoch: 20, Loss: 7.148163795471191\n",
            "Epoch: 21, Loss: 7.06773567199707\n",
            "Epoch: 22, Loss: 6.993273735046387\n",
            "Epoch: 23, Loss: 6.917640209197998\n",
            "Epoch: 24, Loss: 6.838071823120117\n",
            "Epoch: 25, Loss: 6.75685453414917\n",
            "Epoch: 26, Loss: 6.680855751037598\n",
            "Epoch: 27, Loss: 6.6087470054626465\n",
            "Epoch: 28, Loss: 6.542547702789307\n",
            "Epoch: 29, Loss: 6.469069480895996\n",
            "Epoch: 30, Loss: 6.39731502532959\n",
            "Epoch: 31, Loss: 6.3325886726379395\n",
            "Epoch: 32, Loss: 6.27145528793335\n",
            "Epoch: 33, Loss: 6.209476470947266\n",
            "Epoch: 34, Loss: 6.1388044357299805\n",
            "Epoch: 35, Loss: 6.061881065368652\n",
            "Epoch: 36, Loss: 6.005335807800293\n",
            "Epoch: 37, Loss: 5.938290596008301\n",
            "Epoch: 38, Loss: 5.8759236335754395\n",
            "Epoch: 39, Loss: 5.808624744415283\n",
            "Epoch: 40, Loss: 5.752152442932129\n",
            "Epoch: 41, Loss: 5.681803226470947\n",
            "Epoch: 42, Loss: 5.6245198249816895\n",
            "Epoch: 43, Loss: 5.561836242675781\n",
            "Epoch: 44, Loss: 5.498049259185791\n",
            "Epoch: 45, Loss: 5.4378156661987305\n",
            "Epoch: 46, Loss: 5.389524936676025\n",
            "Epoch: 47, Loss: 5.32542085647583\n",
            "Epoch: 48, Loss: 5.284342288970947\n",
            "Epoch: 49, Loss: 5.212082862854004\n",
            "Epoch: 50, Loss: 5.158289909362793\n",
            "Epoch: 51, Loss: 5.098487854003906\n",
            "Epoch: 52, Loss: 5.038059234619141\n",
            "Epoch: 53, Loss: 4.991144180297852\n",
            "Epoch: 54, Loss: 4.936866283416748\n",
            "Epoch: 55, Loss: 4.879654884338379\n",
            "Epoch: 56, Loss: 4.832574844360352\n",
            "Epoch: 57, Loss: 4.77120304107666\n",
            "Epoch: 58, Loss: 4.718441963195801\n",
            "Epoch: 59, Loss: 4.671350002288818\n",
            "Epoch: 60, Loss: 4.611267566680908\n",
            "Epoch: 61, Loss: 4.566140174865723\n",
            "Epoch: 62, Loss: 4.512314319610596\n",
            "Epoch: 63, Loss: 4.461368560791016\n",
            "Epoch: 64, Loss: 4.4074602127075195\n",
            "Epoch: 65, Loss: 4.357887268066406\n",
            "Epoch: 66, Loss: 4.308444023132324\n",
            "Epoch: 67, Loss: 4.25395393371582\n",
            "Epoch: 68, Loss: 4.210620880126953\n",
            "Epoch: 69, Loss: 4.153382778167725\n",
            "Epoch: 70, Loss: 4.108555793762207\n",
            "Epoch: 71, Loss: 4.056938171386719\n",
            "Epoch: 72, Loss: 4.00602912902832\n",
            "Epoch: 73, Loss: 3.955151081085205\n",
            "Epoch: 74, Loss: 3.909722328186035\n",
            "Epoch: 75, Loss: 3.8643696308135986\n",
            "Epoch: 76, Loss: 3.8137118816375732\n",
            "Epoch: 77, Loss: 3.769523859024048\n",
            "Epoch: 78, Loss: 3.7203145027160645\n",
            "Epoch: 79, Loss: 3.679945468902588\n",
            "Epoch: 80, Loss: 3.632565498352051\n",
            "Epoch: 81, Loss: 3.5930280685424805\n",
            "Epoch: 82, Loss: 3.5464353561401367\n",
            "Epoch: 83, Loss: 3.488363265991211\n",
            "Epoch: 84, Loss: 3.4410054683685303\n",
            "Epoch: 85, Loss: 3.4003310203552246\n",
            "Epoch: 86, Loss: 3.350553274154663\n",
            "Epoch: 87, Loss: 3.3101680278778076\n",
            "Epoch: 88, Loss: 3.2633044719696045\n",
            "Epoch: 89, Loss: 3.215665817260742\n",
            "Epoch: 90, Loss: 3.1702399253845215\n",
            "Epoch: 91, Loss: 3.1287338733673096\n",
            "Epoch: 92, Loss: 3.08414626121521\n",
            "Epoch: 93, Loss: 3.037388324737549\n",
            "Epoch: 94, Loss: 2.9972009658813477\n",
            "Epoch: 95, Loss: 2.9517955780029297\n",
            "Epoch: 96, Loss: 2.9097819328308105\n",
            "Epoch: 97, Loss: 2.867130756378174\n",
            "Epoch: 98, Loss: 2.822270631790161\n",
            "Epoch: 99, Loss: 2.7837584018707275\n",
            "Epoch: 100, Loss: 2.7351646423339844\n"
          ]
        }
      ],
      "source": [
        "criterion = nn.CrossEntropyLoss(ignore_index=0)\n",
        "optimizer = optim.Adam(transformer.parameters(), lr=0.0001, betas=(0.9, 0.98), eps=1e-9)\n",
        "\n",
        "transformer.train()\n",
        "\n",
        "for epoch in range(100):\n",
        "    optimizer.zero_grad()\n",
        "    output = transformer(src_data, tgt_data[:, :-1])\n",
        "    loss = criterion(output.contiguous().view(-1, tgt_vocab_size), tgt_data[:, 1:].contiguous().view(-1))\n",
        "    loss.backward()\n",
        "    optimizer.step()\n",
        "    print(f\"Epoch: {epoch+1}, Loss: {loss.item()}\")"
      ]
    },
    {
      "cell_type": "code",
      "execution_count": null,
      "metadata": {
        "id": "RoaKj8pH68fm"
      },
      "outputs": [],
      "source": []
    }
  ],
  "metadata": {
    "colab": {
      "provenance": []
    },
    "kernelspec": {
      "display_name": "Python 3",
      "name": "python3"
    },
    "language_info": {
      "name": "python"
    }
  },
  "nbformat": 4,
  "nbformat_minor": 0
}