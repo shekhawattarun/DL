{
  "cells": [
    {
      "cell_type": "markdown",
      "metadata": {
        "id": "lWvv3EwetRwF"
      },
      "source": [
        "This notebook demonstrates the different loading and saving methods of ANN perceptron model"
      ]
    },
    {
      "cell_type": "code",
      "execution_count": null,
      "metadata": {
        "id": "XAstXs2qqAQJ"
      },
      "outputs": [],
      "source": [
        "import torch\n",
        "import torch.nn as nn\n",
        "import torch.optim as optim"
      ]
    },
    {
      "cell_type": "code",
      "execution_count": null,
      "metadata": {
        "id": "T1nJXwKasqL5"
      },
      "outputs": [],
      "source": [
        "class ANDPerceptron(nn.Module):\n",
        "    def __init__(self):\n",
        "        super(ANDPerceptron, self).__init__()\n",
        "        self.fc = nn.Linear(2, 1)  # Input size: 2, Output size: 1\n",
        "\n",
        "    def forward(self, x):\n",
        "        x = torch.sigmoid(self.fc(x))\n",
        "        return x\n"
      ]
    },
    {
      "cell_type": "code",
      "execution_count": null,
      "metadata": {
        "id": "oDv4zG7SstCz"
      },
      "outputs": [],
      "source": [
        "# Create an instance of the AND perceptron model\n",
        "model = ANDPerceptron()"
      ]
    },
    {
      "cell_type": "code",
      "execution_count": null,
      "metadata": {
        "id": "EHwfcBs9stnx"
      },
      "outputs": [],
      "source": [
        "# Define the input data (truth table for AND operation)\n",
        "inputs = torch.tensor([[0, 0], [0, 1], [1, 0], [1, 1]], dtype=torch.float32)"
      ]
    },
    {
      "cell_type": "code",
      "execution_count": null,
      "metadata": {
        "id": "VWbBMi0Pswgb"
      },
      "outputs": [],
      "source": [
        "# Define the expected outputs\n",
        "expected_outputs = torch.tensor([[0], [0], [0], [1]], dtype=torch.float32)"
      ]
    },
    {
      "cell_type": "code",
      "execution_count": null,
      "metadata": {
        "id": "bh5v-_-Jsxah"
      },
      "outputs": [],
      "source": [
        "# Define loss function and optimizer\n",
        "criterion = nn.MSELoss()\n",
        "optimizer = optim.SGD(model.parameters(), lr=0.1)"
      ]
    },
    {
      "cell_type": "code",
      "execution_count": null,
      "metadata": {
        "colab": {
          "base_uri": "https://localhost:8080/"
        },
        "id": "o-mb7vLUs2LB",
        "outputId": "e1c5c57c-20f6-46f5-fce9-1cc042e9ec48"
      },
      "outputs": [
        {
          "name": "stdout",
          "output_type": "stream",
          "text": [
            "Epoch [100/1000], Loss: 0.1666\n",
            "Epoch [200/1000], Loss: 0.1376\n",
            "Epoch [300/1000], Loss: 0.1172\n",
            "Epoch [400/1000], Loss: 0.1022\n",
            "Epoch [500/1000], Loss: 0.0907\n",
            "Epoch [600/1000], Loss: 0.0815\n",
            "Epoch [700/1000], Loss: 0.0740\n",
            "Epoch [800/1000], Loss: 0.0677\n",
            "Epoch [900/1000], Loss: 0.0623\n",
            "Epoch [1000/1000], Loss: 0.0577\n"
          ]
        }
      ],
      "source": [
        "# Train the model to learn the AND operation\n",
        "for epoch in range(1000):\n",
        "    # Forward pass\n",
        "    outputs = model(inputs)\n",
        "    loss = criterion(outputs, expected_outputs)\n",
        "\n",
        "    # Backward pass and optimization\n",
        "    optimizer.zero_grad()\n",
        "    loss.backward()\n",
        "    optimizer.step()\n",
        "\n",
        "    if (epoch + 1) % 100 == 0:\n",
        "        print(f'Epoch [{epoch+1}/1000], Loss: {loss.item():.4f}')"
      ]
    },
    {
      "cell_type": "code",
      "execution_count": null,
      "metadata": {
        "id": "msYmIfP2s40S"
      },
      "outputs": [],
      "source": [
        "# Save the entire model\n",
        "torch.save(model, 'and_perceptron_entire.pth')"
      ]
    },
    {
      "cell_type": "code",
      "execution_count": null,
      "metadata": {
        "id": "MYys1dBas7ma"
      },
      "outputs": [],
      "source": [
        "# Save only the model weights\n",
        "torch.save(model.state_dict(), 'and_perceptron_weights.pth')"
      ]
    },
    {
      "cell_type": "code",
      "execution_count": null,
      "metadata": {
        "id": "p_V2PiSSs9d6"
      },
      "outputs": [],
      "source": [
        "# Load the entire model\n",
        "loaded_model_entire = torch.load('and_perceptron_entire.pth')"
      ]
    },
    {
      "cell_type": "code",
      "execution_count": null,
      "metadata": {
        "colab": {
          "base_uri": "https://localhost:8080/"
        },
        "id": "Og4DDb28s_1j",
        "outputId": "1d8bb6e1-e6e4-4250-a653-719dc5da4324"
      },
      "outputs": [
        {
          "data": {
            "text/plain": [
              "<All keys matched successfully>"
            ]
          },
          "execution_count": 11,
          "metadata": {},
          "output_type": "execute_result"
        }
      ],
      "source": [
        "# Load the model weights\n",
        "loaded_model_weights = ANDPerceptron()\n",
        "loaded_model_weights.load_state_dict(torch.load('and_perceptron_weights.pth'))\n"
      ]
    },
    {
      "cell_type": "code",
      "execution_count": null,
      "metadata": {
        "colab": {
          "base_uri": "https://localhost:8080/"
        },
        "id": "TIvJ6_VCtCHg",
        "outputId": "2ee6c393-5e45-45f3-b9aa-13408c3e2338"
      },
      "outputs": [
        {
          "data": {
            "text/plain": [
              "ANDPerceptron(\n",
              "  (fc): Linear(in_features=2, out_features=1, bias=True)\n",
              ")"
            ]
          },
          "execution_count": 12,
          "metadata": {},
          "output_type": "execute_result"
        }
      ],
      "source": [
        "# Ensure the loaded models are in evaluation mode\n",
        "loaded_model_entire.eval()\n",
        "loaded_model_weights.eval()"
      ]
    },
    {
      "cell_type": "code",
      "execution_count": null,
      "metadata": {
        "colab": {
          "base_uri": "https://localhost:8080/"
        },
        "id": "1WeNhH-wtEYu",
        "outputId": "85ec790f-ff5d-48eb-92ab-90939a6f0f99"
      },
      "outputs": [
        {
          "name": "stdout",
          "output_type": "stream",
          "text": [
            "Input: [0.0, 0.0], Output (Entire Model): 0.0504, Output (Weights Only): 0.0504\n",
            "Input: [0.0, 1.0], Output (Entire Model): 0.2550, Output (Weights Only): 0.2550\n",
            "Input: [1.0, 0.0], Output (Entire Model): 0.2511, Output (Weights Only): 0.2511\n",
            "Input: [1.0, 1.0], Output (Entire Model): 0.6837, Output (Weights Only): 0.6837\n"
          ]
        }
      ],
      "source": [
        "# Test the loaded models\n",
        "test_inputs = torch.tensor([[0, 0], [0, 1], [1, 0], [1, 1]], dtype=torch.float32)\n",
        "with torch.no_grad():\n",
        "    for input in test_inputs:\n",
        "        output_entire = loaded_model_entire(input)\n",
        "        output_weights = loaded_model_weights(input)\n",
        "        print(f'Input: {input.tolist()}, Output (Entire Model): {output_entire.item():.4f}, Output (Weights Only): {output_weights.item():.4f}')\n",
        "\n"
      ]
    },
    {
      "cell_type": "code",
      "execution_count": null,
      "metadata": {
        "id": "pD5YadzjtHeL"
      },
      "outputs": [],
      "source": []
    }
  ],
  "metadata": {
    "colab": {
      "provenance": []
    },
    "kernelspec": {
      "display_name": "Python 3",
      "language": "python",
      "name": "python3"
    },
    "language_info": {
      "codemirror_mode": {
        "name": "ipython",
        "version": 3
      },
      "file_extension": ".py",
      "mimetype": "text/x-python",
      "name": "python",
      "nbconvert_exporter": "python",
      "pygments_lexer": "ipython3",
      "version": "3.7.12"
    }
  },
  "nbformat": 4,
  "nbformat_minor": 0
}